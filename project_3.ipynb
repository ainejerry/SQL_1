{
 "cells": [
  {
   "cell_type": "code",
   "execution_count": null,
   "metadata": {},
   "outputs": [],
   "source": [
    "use sakila;"
   ]
  },
  {
   "cell_type": "code",
   "execution_count": null,
   "metadata": {},
   "outputs": [],
   "source": [
    "\n",
    "SELECT customer.first_name,customer.last_name,customer.email,city.city,address.address\n",
    "FROM city\n",
    "join address\n",
    "on city.city_id=address.city_id\n",
    "join customer \n",
    "on address.address_id=customer.address_id\n",
    "where city.city_id= 312;"
   ]
  },
  {
   "cell_type": "code",
   "execution_count": null,
   "metadata": {},
   "outputs": [],
   "source": [
    "select  film.title, film.description, film.release_year, film.rating,film.special_features\n",
    "from category\n",
    "join film_category\n",
    "on category.category_id=film_category.category_id\n",
    "join film\n",
    "on film_category.film_id=film.film_id\n",
    "where name = 'comedy';"
   ]
  },
  {
   "cell_type": "code",
   "execution_count": null,
   "metadata": {},
   "outputs": [],
   "source": [
    "select actor.last_name,film.title,film.release_year\n",
    "from actor\n",
    "join film_actor\n",
    "on actor.actor_id=film_actor.actor_id\n",
    "join film \n",
    "on film_actor.film_id=film.film_id\n",
    "where last_name = 'Lollobrigida';"
   ]
  },
  {
   "cell_type": "code",
   "execution_count": null,
   "metadata": {},
   "outputs": [],
   "source": [
    "select actor.first_name,actor.last_name,film.title,film.release_year\n",
    "from actor\n",
    "join film_actor\n",
    "on actor.actor_id=film_actor.actor_id\n",
    "join film \n",
    "on film_actor.film_id=film.film_id\n",
    "where title = \"Bingo Talented\";"
   ]
  },
  {
   "cell_type": "code",
   "execution_count": null,
   "metadata": {},
   "outputs": [],
   "source": [
    "SELECT payment.customer_id, payment.amount\n",
    "FROM payment\n",
    "WHERE payment.amount > (2 * (SELECT AVG(amount) FROM payment));"
   ]
  },
  {
   "cell_type": "code",
   "execution_count": null,
   "metadata": {},
   "outputs": [],
   "source": [
    "SELECT customer.first_name, customer.last_name, COUNT(payment.payment_id) AS num_payments\n",
    "FROM customer\n",
    "JOIN payment \n",
    "ON customer.customer_id = payment.customer_id\n",
    "GROUP BY customer.customer_id\n",
    "ORDER BY num_payments DESC\n",
    "limit 5;\n"
   ]
  }
 ],
 "metadata": {
  "kernelspec": {
   "display_name": "myenv",
   "language": "python",
   "name": "python3"
  },
  "language_info": {
   "codemirror_mode": {
    "name": "ipython",
    "version": 3
   },
   "file_extension": ".py",
   "mimetype": "text/x-python",
   "name": "python",
   "nbconvert_exporter": "python",
   "pygments_lexer": "ipython3",
   "version": "3.11.6"
  }
 },
 "nbformat": 4,
 "nbformat_minor": 2
}
